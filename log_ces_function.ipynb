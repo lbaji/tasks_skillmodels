{
 "cells": [
  {
   "cell_type": "code",
   "execution_count": 2,
   "metadata": {},
   "outputs": [],
   "source": [
    "import numpy as np\n",
    "import numba\n",
    "%load_ext snakeviz"
   ]
  },
  {
   "cell_type": "code",
   "execution_count": 3,
   "metadata": {},
   "outputs": [],
   "source": [
    "def log_ces(sigma_points, coeffs, included_positions):\n",
    "    \"\"\"Calculates the next period's predicted state of the latent factors' states.  \n",
    "    \n",
    "    Args:\n",
    "        * sigma_points: 2d array of sigma_points or states being transformed\n",
    "        * coeffs: 1d array with coefficients specific to this transition function\n",
    "          If the coeffs include an intercept term (e.g. the log of a TFP term),\n",
    "          this has to be the FIRST or LAST element of coeffs.\n",
    "        * included_positions: 1d array with the positions of the factors that are\n",
    "          included in the transition equation \n",
    "\n",
    "    Returns\n",
    "        * 1d array\n",
    "    \"\"\"\n",
    "    nfac = sigma_points.shape[1]\n",
    "    phi = coeffs[-1]\n",
    "    gammas = np.zeros(nfac)\n",
    "    for p, pos in enumerate(included_positions):\n",
    "        gammas[pos] = coeffs[p]\n",
    "\n",
    "    exponents = sigma_points * phi\n",
    "    x = np.exp(exponents)\n",
    "    x = np.dot(x, gammas)\n",
    "    scaling_factor = 1 / phi\n",
    "    result = scaling_factor * np.log(x)\n",
    "\n",
    "    return result"
   ]
  },
  {
   "cell_type": "markdown",
   "metadata": {},
   "source": [
    "1) A sigma_points array of size (10 000, 5). Out of those 5 factors, 3 should be included."
   ]
  },
  {
   "cell_type": "code",
   "execution_count": 4,
   "metadata": {},
   "outputs": [],
   "source": [
    "sigma_points_1 = np.random.rand(10000, 5)\n",
    "included_positions_1 = np.array([0, 1, 2])\n",
    "coeffs_1 = np.array([0.4, 0.3, 0.3, 0.5])\n"
   ]
  },
  {
   "cell_type": "markdown",
   "metadata": {},
   "source": [
    "2) A sigma_points array of (30 000, 5) where all factors are included."
   ]
  },
  {
   "cell_type": "code",
   "execution_count": 5,
   "metadata": {},
   "outputs": [],
   "source": [
    "sigma_points_2 = np.random.rand(30000, 5)\n",
    "included_positions_2 = np.array([0, 1, 2, 3, 4])\n",
    "coeffs_2 = np.array([0.2, 0.2, 0.2, 0.2, 0.2, 0.5])"
   ]
  },
  {
   "cell_type": "markdown",
   "metadata": {},
   "source": [
    "3) A sigma_points vector of (40 000, 8) where only 4 factors are included."
   ]
  },
  {
   "cell_type": "code",
   "execution_count": 6,
   "metadata": {},
   "outputs": [],
   "source": [
    "sigma_points_3 = np.random.rand(40000, 8)\n",
    "included_positions_3 = np.array([0, 1, 2, 3])\n",
    "coeffs_3 = np.array([0.25, 0.25, 0.25, 0.25, 0.5])"
   ]
  },
  {
   "cell_type": "markdown",
   "metadata": {},
   "source": [
    "Timing baseline"
   ]
  },
  {
   "cell_type": "code",
   "execution_count": 7,
   "metadata": {},
   "outputs": [
    {
     "name": "stdout",
     "output_type": "stream",
     "text": [
      "220 µs ± 19.6 µs per loop (mean ± std. dev. of 7 runs, 1 loop each)\n"
     ]
    }
   ],
   "source": [
    "%timeit log_ces(sigma_points = sigma_points_1, coeffs = coeffs_1, included_positions = included_positions_1)"
   ]
  },
  {
   "cell_type": "code",
   "execution_count": 8,
   "metadata": {},
   "outputs": [
    {
     "name": "stdout",
     "output_type": "stream",
     "text": [
      "2.48 ms ± 61.3 µs per loop (mean ± std. dev. of 7 runs, 100 loops each)\n"
     ]
    }
   ],
   "source": [
    "%timeit  log_ces(sigma_points = sigma_points_2, coeffs = coeffs_2, included_positions = included_positions_2)\n"
   ]
  },
  {
   "cell_type": "code",
   "execution_count": 9,
   "metadata": {},
   "outputs": [
    {
     "name": "stdout",
     "output_type": "stream",
     "text": [
      "5.04 ms ± 139 µs per loop (mean ± std. dev. of 7 runs, 100 loops each)\n"
     ]
    }
   ],
   "source": [
    "%timeit log_ces(sigma_points = sigma_points_3, coeffs = coeffs_3, included_positions = included_positions_3)                              "
   ]
  },
  {
   "cell_type": "code",
   "execution_count": 10,
   "metadata": {},
   "outputs": [
    {
     "name": "stdout",
     "output_type": "stream",
     "text": [
      " \n",
      "*** Profile stats marshalled to file 'C:\\\\Users\\\\laura\\\\AppData\\\\Local\\\\Temp\\\\tmpe2b1uwc3'. \n"
     ]
    }
   ],
   "source": [
    "%snakeviz log_ces(sigma_points = sigma_points_3, coeffs = coeffs_3, included_positions = included_positions_3)"
   ]
  },
  {
   "cell_type": "code",
   "execution_count": null,
   "metadata": {},
   "outputs": [],
   "source": []
  }
 ],
 "metadata": {
  "kernelspec": {
   "display_name": "Python 3",
   "language": "python",
   "name": "python3"
  },
  "language_info": {
   "codemirror_mode": {
    "name": "ipython",
    "version": 3
   },
   "file_extension": ".py",
   "mimetype": "text/x-python",
   "name": "python",
   "nbconvert_exporter": "python",
   "pygments_lexer": "ipython3",
   "version": "3.7.0"
  }
 },
 "nbformat": 4,
 "nbformat_minor": 2
}
